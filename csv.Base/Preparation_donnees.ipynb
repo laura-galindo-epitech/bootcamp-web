{
  "nbformat": 4,
  "nbformat_minor": 0,
  "metadata": {
    "colab": {
      "provenance": []
    },
    "kernelspec": {
      "name": "python3",
      "display_name": "Python 3"
    },
    "language_info": {
      "name": "python"
    }
  },
  "cells": [
    {
      "cell_type": "code",
      "execution_count": null,
      "metadata": {
        "id": "V6tFWVpDn0rg"
      },
      "outputs": [],
      "source": [
        "import re\n",
        "import unicodedata\n",
        "import hashlib\n",
        "import pandas as pd\n",
        "import numpy as np"
      ]
    },
    {
      "cell_type": "code",
      "source": [
        "# Chargement des données brutes\n",
        "df_m = pd.read_csv('Sneakers_hommes_decath.csv', sep=None, engine='python', encoding='utf-8-sig', on_bad_lines='skip')\n",
        "df_f = pd.read_csv('Sneakers_femmes_decath.csv', sep=None, engine='python', encoding='utf-8-sig', on_bad_lines='skip')\n",
        "df_c = pd.read_csv('Sneakers_enfants_decath.csv', sep=None, engine='python', encoding='utf-8-sig', on_bad_lines='skip')"
      ],
      "metadata": {
        "id": "lBvmTfMFoO7y"
      },
      "execution_count": null,
      "outputs": []
    },
    {
      "cell_type": "code",
      "source": [
        "# vérification des données\n",
        "print(\"Femmes:\", df_f.shape)\n",
        "print(\"Hommes:\", df_m.shape)\n",
        "print(\"Enfants:\", df_c.shape)"
      ],
      "metadata": {
        "colab": {
          "base_uri": "https://localhost:8080/"
        },
        "id": "jsuJIQnWoPYC",
        "outputId": "3a216ab5-17e2-4275-cf0d-efb57682c06e"
      },
      "execution_count": null,
      "outputs": [
        {
          "output_type": "stream",
          "name": "stdout",
          "text": [
            "Femmes: (1185, 10)\n",
            "Hommes: (1239, 10)\n",
            "Enfants: (419, 10)\n"
          ]
        }
      ]
    },
    {
      "cell_type": "code",
      "source": [
        "# Vérification des valeurs manquantes dans le fichier 'hommes'\n",
        "print(\"--- Valeurs manquantes dans Sneakers_hommes_decath.csv ---\")\n",
        "print(df_m.isnull().sum())\n",
        "\n",
        "print(\"\\n\" + \"=\"*50 + \"\\n\")\n",
        "\n",
        "# Vérification des valeurs manquantes dans le fichier 'femmes'\n",
        "print(\"--- Valeurs manquantes dans Sneakers_femmes_decath.csv ---\")\n",
        "print(df_f.isnull().sum())\n",
        "\n",
        "print(\"\\n\" + \"=\"*50 + \"\\n\")\n",
        "\n",
        "# Vérification des valeurs manquantes dans le fichier 'enfants'\n",
        "print(\"--- Valeurs manquantes dans Sneakers_enfants_decath.csv ---\")\n",
        "print(df_c.isnull().sum())"
      ],
      "metadata": {
        "colab": {
          "base_uri": "https://localhost:8080/"
        },
        "id": "ePBk-8_xqjat",
        "outputId": "0f8e8279-f8ed-4c15-ec60-fd0b324eff08"
      },
      "execution_count": null,
      "outputs": [
        {
          "output_type": "stream",
          "name": "stdout",
          "text": [
            "--- Valeurs manquantes dans Sneakers_hommes_decath.csv ---\n",
            "Prix_actuel                  267\n",
            "Prix_initial                 963\n",
            "Baisse_du_prix               963\n",
            "Durée_de_vente               963\n",
            "Marque                         1\n",
            "Description                    1\n",
            "Commentaire                 1059\n",
            "Livraison                   1140\n",
            "Image_URL                      1\n",
            "URL_de_la_page_détaillée       1\n",
            "dtype: int64\n",
            "\n",
            "==================================================\n",
            "\n",
            "--- Valeurs manquantes dans Sneakers_femmes_decath.csv ---\n",
            "Prix_actuel                  249\n",
            "Prix_initial                 915\n",
            "Baisse_du_prix               915\n",
            "Durée_de_vente               915\n",
            "Marque                         1\n",
            "Description                    1\n",
            "Commentaire                 1016\n",
            "Livraison                   1085\n",
            "Image_URL                      1\n",
            "URL_de_la_page_détaillée       1\n",
            "dtype: int64\n",
            "\n",
            "==================================================\n",
            "\n",
            "--- Valeurs manquantes dans Sneakers_enfants_decath.csv ---\n",
            "Prix_actuel                 106\n",
            "Prix_initial                282\n",
            "Baisse_du_prix              282\n",
            "Durée_de_vente              282\n",
            "Marque                        1\n",
            "Description                   1\n",
            "Commentaire                 255\n",
            "Livraison                   316\n",
            "Image_URL                     1\n",
            "URL_de_la_page_détaillée      1\n",
            "dtype: int64\n"
          ]
        }
      ]
    },
    {
      "cell_type": "code",
      "source": [
        "# Fonction pour nettoyer et vérifier un fichier CSV\n",
        "# exclusion des marques.\n",
        "exclude_brands = [\n",
        "    \"Quechua\", \"Salomon\", \"Merrell\", \"Garmont\", \"Grisport\", \"La Sportiva\",\n",
        "    \"Mammut\", \"Salewa\", \"Jack Wolfskin\", \"Helly Hansen\", \"Columbia\",\n",
        "    \"Clarks\", \"Panama Jack\", \"Birkenstock\", \"Aigle\", \"Brooks\", \"Ugg\"\n",
        "]\n",
        "exclude_keywords = [\"sandales\", \"ballerines\", \"bottes\", \"crampons\", \"randonnée\"]\n",
        "\n",
        "def clean_and_load_csv(filename, gender):\n",
        "    try:\n",
        "        df = pd.read_csv(filename, sep=None, engine='python', encoding='utf-8-sig', on_bad_lines='skip')\n",
        "        df.columns = [col.strip().replace(' ', '_').replace('€', '') for col in df.columns]\n",
        "        df = df.rename(columns={'Prix_actuel': 'price', 'Image_URL': 'image_url'})\n",
        "        print(f\"\\n--- Nettoyage de {filename} ({gender}) ---\")\n",
        "        print(f\"Lignes initiales : {len(df)}\")\n",
        "\n",
        "        # 1. Suppression des lignes avec valeurs manquantes\n",
        "        df.dropna(subset=['price', 'image_url', 'Marque', 'Description'], inplace=True)\n",
        "        print(f\"Lignes après la suppression des valeurs manquantes : {len(df)}\")\n",
        "\n",
        "        # Normaliser les colonnes pour le filtrage\n",
        "        df['Marque'] = df['Marque'].fillna('').str.strip()\n",
        "        df['Description_lower'] = df['Description'].str.lower().fillna('')\n",
        "\n",
        "        # 2. **Filtrage des marques et des mots-clés (comme demandé)**\n",
        "        df = df[~df['Marque'].str.upper().isin([b.upper() for b in exclude_brands])]\n",
        "        df = df[~df['Description_lower'].str.contains('|'.join(exclude_keywords))]\n",
        "\n",
        "        # Supprimer la colonne temporaire\n",
        "        df = df.drop(columns=['Description_lower'])\n",
        "\n",
        "        print(f\"Lignes après le filtrage des marques et mots-clés : {len(df)}\")\n",
        "        print(\"Vérification après nettoyage :\")\n",
        "        print(df[['price', 'image_url', 'Marque', 'Description']].isnull().sum())\n",
        "\n",
        "        df['gender'] = gender\n",
        "\n",
        "        return df\n",
        "    except FileNotFoundError:\n",
        "        print(f\"Erreur : Le fichier {filename} n'a pas été trouvé.\")\n",
        "        return None\n"
      ],
      "metadata": {
        "id": "cD7kBefyrGee"
      },
      "execution_count": null,
      "outputs": []
    },
    {
      "cell_type": "code",
      "source": [
        "# Chargement et nettoyage de chaque fichier\n",
        "df_m = clean_and_load_csv('Sneakers_hommes_decath.csv', 'men')\n",
        "df_f = clean_and_load_csv('Sneakers_femmes_decath.csv', 'women')\n",
        "df_c = clean_and_load_csv('Sneakers_enfants_decath.csv', 'child')\n",
        "\n",
        "# Concaténation des DataFrames nettoyés\n",
        "df_list = [df for df in [df_m, df_f, df_c] if df is not None]\n",
        "df_concat = pd.concat(df_list, ignore_index=True)\n"
      ],
      "metadata": {
        "colab": {
          "base_uri": "https://localhost:8080/"
        },
        "id": "2UYl6EtsT9LR",
        "outputId": "01bc2599-48e6-4658-d446-e8471d123bae"
      },
      "execution_count": null,
      "outputs": [
        {
          "output_type": "stream",
          "name": "stdout",
          "text": [
            "\n",
            "--- Nettoyage de Sneakers_hommes_decath.csv (men) ---\n",
            "Lignes initiales : 1239\n",
            "Lignes après la suppression des valeurs manquantes : 972\n",
            "Lignes après le filtrage des marques et mots-clés : 941\n",
            "Vérification après nettoyage :\n",
            "price          0\n",
            "image_url      0\n",
            "Marque         0\n",
            "Description    0\n",
            "dtype: int64\n",
            "\n",
            "--- Nettoyage de Sneakers_femmes_decath.csv (women) ---\n",
            "Lignes initiales : 1185\n",
            "Lignes après la suppression des valeurs manquantes : 936\n",
            "Lignes après le filtrage des marques et mots-clés : 912\n",
            "Vérification après nettoyage :\n",
            "price          0\n",
            "image_url      0\n",
            "Marque         0\n",
            "Description    0\n",
            "dtype: int64\n",
            "\n",
            "--- Nettoyage de Sneakers_enfants_decath.csv (child) ---\n",
            "Lignes initiales : 419\n",
            "Lignes après la suppression des valeurs manquantes : 313\n",
            "Lignes après le filtrage des marques et mots-clés : 267\n",
            "Vérification après nettoyage :\n",
            "price          0\n",
            "image_url      0\n",
            "Marque         0\n",
            "Description    0\n",
            "dtype: int64\n"
          ]
        }
      ]
    },
    {
      "cell_type": "code",
      "source": [
        "# Affichage des premières lignes pour vérification\n",
        "print(df_concat.head())"
      ],
      "metadata": {
        "colab": {
          "base_uri": "https://localhost:8080/"
        },
        "id": "-KshNjuaor4Y",
        "outputId": "3a5aa61a-2d96-456c-ff45-374218140346"
      },
      "execution_count": null,
      "outputs": [
        {
          "output_type": "stream",
          "name": "stdout",
          "text": [
            "    price Prix_initial Baisse_du_prix  \\\n",
            "0  39,99€       64,99€        -25,00€   \n",
            "1  12,99€          NaN            NaN   \n",
            "2     23€          NaN            NaN   \n",
            "3  24,99€       34,99€        -10,00€   \n",
            "4  89,99€          NaN            NaN   \n",
            "\n",
            "                                     Durée_de_vente     Marque  \\\n",
            "0  *À partir du 06/08/2025 et avant le 30/09/2025       ADIDAS   \n",
            "1                                               NaN  DECATHLON   \n",
            "2                                               NaN     TARMAK   \n",
            "3                    *Jusqu'à épuisement du stock    DECATHLON   \n",
            "4                                               NaN     KIPSTA   \n",
            "\n",
            "                                         Description Commentaire  \\\n",
            "0         CHAUSSURE HOMME ULTIMASHOW 2.0 ADIDAS NOIR       (159)   \n",
            "1                   Chaussures homme Ekiden One gris     (10742)   \n",
            "2  Chaussures de basketball homme/femme - SE 500 ...       (424)   \n",
            "3       Baskets en cuir CJ80 homme blanc et bordeaux       (646)   \n",
            "4  Chaussure de basketball homme/femme - CANAVERA...        (12)   \n",
            "\n",
            "          Livraison                                          image_url  \\\n",
            "0  Livraison en 48h  https://contents.mediadecathlon.com/p2828860/k...   \n",
            "1  Livraison en 48h  https://contents.mediadecathlon.com/p2917181/k...   \n",
            "2               NaN  https://contents.mediadecathlon.com/p2591910/k...   \n",
            "3  Livraison en 48h  https://contents.mediadecathlon.com/p2794762/k...   \n",
            "4  Livraison en 48h  https://contents.mediadecathlon.com/p2942823/k...   \n",
            "\n",
            "                            URL_de_la_page_détaillée gender  \n",
            "0  https://www.decathlon.fr/p/chaussure-homme-ult...    men  \n",
            "1  https://www.decathlon.fr/p/chaussures-homme-ek...    men  \n",
            "2  https://www.decathlon.fr/p/chaussures-de-baske...    men  \n",
            "3  https://www.decathlon.fr/p/baskets-en-cuir-cj8...    men  \n",
            "4  https://www.decathlon.fr/p/chaussures-de-baske...    men  \n"
          ]
        }
      ]
    },
    {
      "cell_type": "code",
      "source": [
        "# Normalisation des prix et des marques\n",
        "df_concat['price'] = df_concat['price'].astype(str).str.replace('€', '').str.replace(',', '.').str.strip()\n",
        "df_concat = df_concat[pd.to_numeric(df_concat['price'], errors='coerce').notnull()]\n",
        "df_concat['price'] = df_concat['price'].astype(float)\n",
        "df_concat['Marque'] = df_concat['Marque'].fillna('').str.upper().str.strip()\n",
        "\n",
        "# Filtrage\n",
        "exclude_brands = [\n",
        "    \"Quechua\", \"Salomon\", \"Merrell\", \"Garmont\", \"Grisport\", \"La Sportiva\",\n",
        "    \"Mammut\", \"Salewa\", \"Jack Wolfskin\", \"Helly Hansen\", \"Columbia\",\n",
        "    \"Clarks\", \"Panama Jack\", \"Birkenstock\", \"Aigle\", \"Brooks\", \"Ugg\"\n",
        "]\n",
        "exclude_keywords = [\"sandales\", \"ballerines\", \"bottes\", \"crampons\", \"randonnée\"]\n",
        "df_concat = df_concat[~df_concat['Marque'].isin(exclude_brands)]\n",
        "df_concat = df_concat[~df_concat['Description'].str.lower().str.contains('|'.join(exclude_keywords))]\n",
        "\n",
        "print(f\"✅ OK: Données chargées et nettoyées. Lignes finales : {len(df_concat)}\")"
      ],
      "metadata": {
        "colab": {
          "base_uri": "https://localhost:8080/"
        },
        "id": "aEqx3o1UUH-t",
        "outputId": "31a1e3fe-35ec-4ab5-b08b-0fba09d5c7d0"
      },
      "execution_count": null,
      "outputs": [
        {
          "output_type": "stream",
          "name": "stdout",
          "text": [
            "✅ OK: Données chargées et nettoyées. Lignes finales : 2120\n"
          ]
        }
      ]
    },
    {
      "cell_type": "code",
      "source": [
        "# --- Fonctions et listes de nettoyage du nom (make_short_name) ---\n",
        "PHRASES_DROP = [\n",
        "    \"de marche\", \"de course\", \"de trail\", \"de randonnée\", \"de randonnee\", \"de ville\",\n",
        "    \"à lacets\", \"à scratch -\", \"à scratch\", \"en toile\", \"en cuir\", \"de trekking\", \"de basketball\", \"en daim\", \"de tennis\", \"de course\", \"de marche\", \"de hockey sur gazon\", \" à crampon\", \"de football\", \"d'haltérophilie\", \"de tennis multicourt\", \"de skateboard\",\"de hockey\", \"intensité moyenne\", \"respirant garçons\", \"ultra-respirantes\", \"/ debutant\", \"d'entraînement\",\n",
        "]\n",
        "STOPWORDS_DROP = [\n",
        "    \"chaussure\", \"chaussures\", \"basket\", \"bask'ets\", \"sneaker\", \"sneakers\",\n",
        "    \"femme\", \"homme\", \"enfant\", \"junior\", \"garçon\", \"garcon\", \"fille\", \"mixte\", \"unisex\", \"unisexe\",\n",
        "    \"running\", \"course\", \"trail\", \"randonnée\", \"randonnee\", \"fitness\", \"training\",\n",
        "    \"sport\", \"sportswear\", \"lifestyle\", \"marche\", \"et\",\n",
        "    \"modèle\", \"modele\", \"impermable\", \"coloris\", \"couleur\", \"color\",\n",
        "    \"tailles\", \"taille\", \"pointure\", \"pointures\", \"imperméable\", \"résistantes,\" \"résistantes\",\n",
        "    \"cassé\", \"toile\", \"gomme\", \"impermeable\", \"waterproof\", \"scratch\",\"/\", \"baskets\", \"de\", \"pour\", \"bébés\",\"bébé\", \"enfant\", \"enfants\", \"moulée\", \"adolescent\",\"adolescents\", \"extérieures\", \"extérieure\", \"garçons\", \"filles\", \"lacets\", \"femmes\", \"hommes\", \"femme\", \"homme\", \"kid\", \"kids\", \"hombre\", \"pour\", \"du\", \"enfants\",\n",
        "]\n",
        "COLORS_DROP = [\n",
        "    \"noir\", \"noire\", \"noirs\", \"noires\", \"black\", \"blanc\", \"blanche\", \"blancs\", \"blanco\", \"white\",\n",
        "    \"bleu\", \"bleue\", \"bleues\", \"blue\", \"blueberry\", \"marine\", \"navy\", \"sky\", \"turquoises\", \"ultramarine\",\n",
        "    \"rouge\", \"rouges\", \"red\", \"bred\", \"shattered\", \"rose\", \"pink\", \"pinksicle\", \"pinkscape\", \"orchid\",\n",
        "    \"vert\", \"verte\", \"green\", \"forest\", \"olive\", \"kaki\", \"khaki\", \"military\", \"chlorophyll\",\n",
        "    \"jaune\", \"yellow\", \"mustard\", \"goldenrod\", \"gris\", \"grise\", \"grises\", \"grey\", \"gray\",\n",
        "    \"grisport\", \"silver\", \"argent\", \"argenté\", \"beige\", \"sand\", \"camel\", \"sanddrift\",\n",
        "    \"cream\", \"ivory\", \"angora\", \"marron\", \"brown\", \"cordura\", \"hickory\", \"orange\", \"corail\", \"coral\",\n",
        "    \"violet\", \"violette\", \"violet\", \"purple\", \"bordeaux\", \"aurora\", \"doré\", \"jaune\", \"dore\", \"jaune\", \"d'or\", \"jaune\", \"gold\", \"jaune\", \"golden\", \"jaune\",\n",
        "    \"multicolore\", \"unique\", \"multicolores\", \"unique\", \"multicolor\", \"unique\", \"multi\", \"unique\", \"imprimé\", \"unique\",\n",
        "    \"clair\", \"unique\", \"foncé\", \"unique\", \"foncée\", \"unique\", \"pastel\", \"unique\", \"uni\", \"unique\"\n",
        "]\n",
        "SIZE_PATTERNS = re.compile(\n",
        "    r\"\\(\\s*\\d{2}\\s*(?:[-–—]|à|to)\\s*\\d{2}\\s*\\)|\" +\n",
        "    r\"\\b(?:EU|EUR|FR|T(?:aille)?|pointures?)\\s*\\d{2}\\s*(?:[-–—]|à|to)\\s*\\d{2}\\b|\" +\n",
        "    r\"\\b\\d{2}(?:\\s*,\\s*\\d{2}){1,}\\b\"\n",
        ")\n",
        "def make_short_name(text):\n",
        "    text = str(text).lower()\n",
        "    for phrase in PHRASES_DROP: text = text.replace(phrase, \"\")\n",
        "    sorted_stopwords = sorted(STOPWORDS_DROP + COLORS_DROP, key=len, reverse=True)\n",
        "    for word in sorted_stopwords: text = re.sub(r'\\b' + re.escape(word) + r'\\b', '', text)\n",
        "    text = SIZE_PATTERNS.sub('', text)\n",
        "    text = re.sub(r'\\s+', ' ', text).strip(' -_.,')\n",
        "    return text if text else str(text)\n",
        "\n",
        "# --- Fonctions pour la normalisation et la création de hash ---\n",
        "def to_slug(text):\n",
        "    text = str(text)\n",
        "    text = unicodedata.normalize('NFKD', text).encode('ascii', 'ignore').decode('utf-8')\n",
        "    text = text.lower().strip()\n",
        "    text = re.sub(r'[\\s\\.\\/_]+', '-', text)\n",
        "    text = re.sub(r'[^\\w-]+', '', text)\n",
        "    return text\n",
        "\n",
        "def create_sku(text):\n",
        "    text = str(text)\n",
        "    return hashlib.sha1(text.encode('utf-8')).hexdigest()[:10]\n",
        "\n",
        "# --- Dictionnaire de couleurs et fonctions d'extraction ---\n",
        "COLOR_MAPPING = {\n",
        "    \"noir\": \"noir\", \"noire\": \"noir\", \"noirs\": \"noir\", \"noires\": \"noir\", \"black\": \"noir\", \"blanc\": \"blanc\", \"blanche\": \"blanc\", \"blancs\": \"blanc\", \"blanco\": \"blanc\", \"white\": \"blanc\", \"bleu\": \"bleu\", \"bleue\": \"bleu\", \"bleues\": \"bleu\", \"blue\": \"bleu\", \"blueberry\": \"bleu\", \"marine\": \"bleu\", \"navy\": \"bleu\", \"sky\": \"bleu\", \"turquoises\": \"bleu\", \"ultramarine\": \"bleu\", \"rouge\": \"rouge\", \"rouges\": \"rouge\", \"red\": \"rouge\", \"bred\": \"rouge\", \"shattered\": \"rouge\", \"rose\": \"rose\", \"pink\": \"rose\", \"pinksicle\": \"rose\", \"pinkscape\": \"rose\", \"orchid\": \"rose\", \"vert\": \"vert\", \"verte\": \"vert\", \"green\": \"vert\", \"forest\": \"vert\", \"olive\": \"vert\", \"kaki\": \"vert\", \"khaki\": \"vert\", \"military\": \"vert\", \"chlorophyll\": \"vert\", \"jaune\": \"jaune\", \"yellow\": \"jaune\", \"mustard\": \"jaune\", \"goldenrod\": \"jaune\", \"gris\": \"gris\", \"grise\": \"gris\", \"grises\": \"gris\", \"grey\": \"gris\", \"gray\": \"gris\", \"grisport\": \"gris\", \"silver\": \"gris\", \"argent\": \"gris\", \"argenté\": \"gris\", \"beige\": \"beige\", \"sand\": \"beige\", \"camel\": \"beige\", \"sanddrift\": \"beige\", \"cream\": \"beige\", \"ivory\": \"beige\", \"angora\": \"beige\", \"marron\": \"marron\", \"brown\": \"marron\", \"cordura\": \"marron\", \"hickory\": \"marron\", \"orange\": \"orange\", \"corail\": \"orange\", \"coral\": \"orange\", \"violet\": \"violet\", \"violette\": \"violet\", \"purple\": \"violet\", \"bordeaux\": \"violet\", \"aurora\": \"violet\", \"doré\": \"jaune\", \"dore\": \"jaune\", \"d'or\": \"jaune\", \"gold\": \"jaune\", \"golden\": \"jaune\", \"multicolore\": \"unique\", \"multicolores\": \"unique\", \"multicolor\": \"unique\", \"multi\": \"unique\", \"imprimé\": \"unique\", \"clair\": \"unique\", \"foncé\": \"unique\", \"foncée\": \"unique\", \"pastel\": \"unique\", \"uni\": \"unique\"}\n",
        "\n",
        "def extract_colors_from_text(text: str):\n",
        "    text_lower = str(text).lower()\n",
        "    found_colors = []\n",
        "    BASE_COLORS = [c for c, f in COLOR_MAPPING.items() if f != 'unique']\n",
        "    MODIFIERS = [c for c, f in COLOR_MAPPING.items() if f == 'unique']\n",
        "    for color in BASE_COLORS:\n",
        "        if re.search(r'\\b' + re.escape(color) + r'\\b', text_lower): found_colors.append(color)\n",
        "    if found_colors: return found_colors\n",
        "    for modifier in MODIFIERS:\n",
        "        if re.search(r'\\b' + re.escape(modifier) + r'\\b', text_lower): found_colors.append(modifier)\n",
        "    if found_colors: return found_colors\n",
        "    return ['unique']\n",
        "\n",
        "def get_color_info(description):\n",
        "    colors_found = extract_colors_from_text(description)\n",
        "    color = colors_found[0]\n",
        "    color_family = COLOR_MAPPING.get(color, 'unique')\n",
        "    return color, color_family\n",
        "\n",
        "# --- Fonctions d'extraction de taille ---\n",
        "def find_size_in_description(description):\n",
        "    match = re.search(r'\\b(2[89]|[34][0-9])\\b', str(description))\n",
        "    if match: return int(match.group(1))\n",
        "    return None\n",
        "size_ranges = {'men': range(39, 49), 'women': range(36, 42), 'child': range(28, 36)}"
      ],
      "metadata": {
        "id": "_WrVc-YGW4qM"
      },
      "execution_count": null,
      "outputs": []
    },
    {
      "cell_type": "code",
      "source": [
        "# Crée une version brute de la description pour référence\n",
        "df_concat['model_name_raw'] = df_concat['Description'].astype(str) + ' ' + df_concat['Marque'].astype(str)\n",
        "df_concat['model_name_raw'] = df_concat['model_name_raw'].apply(lambda x: re.sub(r'\\(.*?\\)', '', x).strip())\n",
        "\n",
        "# Utilise la fonction de nettoyage pour créer un nom de modèle PROPRE\n",
        "df_concat['model_name_clean'] = df_concat['Description'].apply(make_short_name)\n",
        "\n",
        "# Crée le slug et le SKU de modèle à partir du nom PROPRE\n",
        "df_concat['model_slug'] = df_concat['model_name_clean'].apply(to_slug)\n",
        "df_concat['model_slug'] = df_concat['model_slug'].replace('', pd.NA)\n",
        "df_concat.dropna(subset=['model_slug'], inplace=True)\n",
        "\n",
        "df_concat['brand_prefix'] = df_concat['Marque'].fillna('').str[:3].str.upper()\n",
        "df_concat['sku_model_base'] = df_concat['brand_prefix'] + '-' + df_concat['model_slug'].apply(create_sku)\n",
        "\n",
        "# Regroupe par le slug pour assigner le même sku_model\n",
        "df_concat['sku_model'] = df_concat.groupby('model_slug')['sku_model_base'].transform('first')\n",
        "print(\"✅ OK: SKUs et Slugs de modèle générés avec succès.\")"
      ],
      "metadata": {
        "colab": {
          "base_uri": "https://localhost:8080/"
        },
        "id": "jov61H-PQN6w",
        "outputId": "cb9c6eae-5d20-4d03-dd27-de71d025dea5"
      },
      "execution_count": null,
      "outputs": [
        {
          "output_type": "stream",
          "name": "stdout",
          "text": [
            "✅ OK: SKUs et Slugs de modèle générés avec succès.\n"
          ]
        }
      ]
    },
    {
      "cell_type": "code",
      "source": [
        "# Extraction des couleurs\n",
        "df_concat['color'], df_concat['color_family'] = zip(*df_concat['Description'].apply(get_color_info))\n",
        "\n",
        "# Création d'un DataFrame vide pour les variants\n",
        "df_variants = pd.DataFrame()\n",
        "\n",
        "# Itère sur chaque modèle unique\n",
        "for sku_model, group in df_concat.groupby('sku_model'):\n",
        "    color_variants = group.drop_duplicates(subset=['color', 'image_url'])\n",
        "    for index, row in color_variants.iterrows():\n",
        "        found_size = find_size_in_description(row['Description'])\n",
        "        if found_size: sizes_to_use = [found_size]\n",
        "        else: sizes_to_use = size_ranges.get(row['gender'], [])\n",
        "        for size in sizes_to_use:\n",
        "            new_row = row.copy()\n",
        "            new_row['eu_size'] = size\n",
        "            new_row['stock_quantity'] = np.random.randint(5, 50)\n",
        "            variant_data_string = f\"{sku_model}-{size}-{row['color']}\"\n",
        "            new_row['sku_variant'] = create_sku(variant_data_string)\n",
        "            new_row['product_slug'] = row['model_slug']\n",
        "            df_variants = pd.concat([df_variants, pd.DataFrame([new_row])], ignore_index=True)\n",
        "\n",
        "df_variants = df_variants.drop_duplicates(subset=['sku_variant'])\n",
        "print(\"✅ OK: Les variants ont été générés avec succès.\")\n"
      ],
      "metadata": {
        "colab": {
          "base_uri": "https://localhost:8080/"
        },
        "id": "cgpkz10SRA8B",
        "outputId": "7ed49bc6-817b-4e11-b788-59433660bc69"
      },
      "execution_count": null,
      "outputs": [
        {
          "output_type": "stream",
          "name": "stdout",
          "text": [
            "✅ OK: Les variants ont été générés avec succès.\n"
          ]
        }
      ]
    },
    {
      "cell_type": "code",
      "source": [
        "print(\"-\" * 50)\n",
        "print(\"✅ Vérification finale des exclusions avant la création des CSV...\")\n",
        "\n",
        "# Vérifier si des marques à exclure sont présentes dans le DataFrame final des variants\n",
        "brands_in_variants = df_variants['Marque'].unique().tolist()\n",
        "found_excluded_brands = [brand for brand in brands_in_variants if brand in exclude_brands]\n",
        "\n",
        "if not found_excluded_brands:\n",
        "    print(\"✅ OK : Aucune des marques à exclure n'est présente dans le DataFrame final.\")\n",
        "else:\n",
        "    print(\"❌ ERREUR : Les marques suivantes n'ont pas été exclues :\", found_excluded_brands)\n",
        "    # Afficher les lignes problématiques pour le débogage\n",
        "    print(df_variants[df_variants['Marque'].isin(found_excluded_brands)].head())\n",
        "\n",
        "# Vérifier si des mots-clés à exclure sont présents dans les descriptions du DataFrame final\n",
        "found_excluded_keywords = df_variants[df_variants['Description'].str.lower().str.contains('|'.join(exclude_keywords), na=False)]\n",
        "\n",
        "if found_excluded_keywords.empty:\n",
        "    print(\"✅ OK : Aucun des mots-clés à exclure n'est présent dans le DataFrame final.\")\n",
        "else:\n",
        "    print(\"❌ ERREUR : Des descriptions avec des mots-clés à exclure n'ont pas été retirées.\")\n",
        "    # Afficher les lignes problématiques\n",
        "    print(found_excluded_keywords[['Description', 'Marque']].head())\n",
        "\n",
        "print(\"-\" * 50)"
      ],
      "metadata": {
        "colab": {
          "base_uri": "https://localhost:8080/"
        },
        "id": "c1_KsnuW3a82",
        "outputId": "bc836f3a-b576-4bee-dd2d-143f299acc48"
      },
      "execution_count": null,
      "outputs": [
        {
          "output_type": "stream",
          "name": "stdout",
          "text": [
            "--------------------------------------------------\n",
            "✅ Vérification finale des exclusions avant la création des CSV...\n",
            "✅ OK : Aucune des marques à exclure n'est présente dans le DataFrame final.\n",
            "✅ OK : Aucun des mots-clés à exclure n'est présent dans le DataFrame final.\n",
            "--------------------------------------------------\n"
          ]
        }
      ]
    },
    {
      "cell_type": "code",
      "source": [
        "# 1. Vérification de l'unicité des SKUs variants\n",
        "# Le nombre de lignes doit être égal au nombre de SKUs uniques\n",
        "if df_variants['sku_variant'].is_unique:\n",
        "    print(\"✅ OK : Tous les SKU variants sont uniques.\")\n",
        "else:\n",
        "    print(\"❌ ERREUR : Des SKU variants ne sont pas uniques. Vérifiez la logique de création.\")\n",
        "    duplicate_skus = df_variants[df_variants.duplicated(subset=['sku_variant'], keep=False)]\n",
        "    print(\"\\nExemple de SKUs variants dupliqués :\\n\", duplicate_skus.head())\n",
        "\n",
        "print(\"-\" * 50)\n",
        "\n",
        "# 2. Vérification des valeurs manquantes dans les colonnes clés\n",
        "missing_values = df_variants[['product_slug', 'eu_size', 'gender', 'price', 'sku_variant', 'sku_model']].isnull().sum()\n",
        "if missing_values.sum() == 0:\n",
        "    print(\"✅ OK : Aucune valeur manquante dans les colonnes clés des variants.\")\n",
        "else:\n",
        "    print(\"❌ ERREUR : Des valeurs manquantes ont été trouvées dans les colonnes clés.\")\n",
        "    print(missing_values)\n",
        "\n",
        "print(\"-\" * 50)\n",
        "\n",
        "# 3. Vérification de la cohérence des prix\n",
        "if (df_variants['price'] > 0).all():\n",
        "    print(\"✅ OK : Tous les prix sont positifs.\")\n",
        "else:\n",
        "    print(\"⚠️ ATTENTION : Des prix non positifs ont été trouvés.\")\n",
        "    print(df_variants[df_variants['price'] <= 0].head())\n",
        "\n",
        "print(\"-\" * 50)\n",
        "\n",
        "# 4. Vérification de la liaison avec le modèle\n",
        "# Chaque variant doit avoir un sku_model correspondant\n",
        "if not df_variants['sku_model'].isnull().any() and not df_variants['sku_model'].duplicated().all():\n",
        "    print(\"✅ OK : La liaison entre les variants et les modèles est correcte.\")\n",
        "else:\n",
        "    print(\"❌ ERREUR : Problème de liaison avec le modèle (sku_model manquant ou incorrect).\")\n",
        "\n",
        "print(\"-\" * 50)\n",
        "\n",
        "# 5. Vérification des tailles extraites\n",
        "# On peut vérifier la distribution des tailles pour s'assurer qu'elles sont dans les bonnes plages\n",
        "print(\"Distribution des tailles par genre :\")\n",
        "print(df_variants.groupby('gender')['eu_size'].describe())\n",
        "\n",
        "print(\"-\" * 50)\n",
        "\n",
        "# 6. Vérification de la cohérence entre les slugs et les SKUs\n",
        "# Les slugs de modèle et les SKUs doivent correspondre\n",
        "# Pour cette vérification, il faut que 'model_slug' soit présent dans le df_variants\n",
        "if 'model_slug' in df_variants.columns:\n",
        "    if (df_variants.groupby('sku_model')['model_slug'].nunique() <= 1).all():\n",
        "        print(\"✅ OK : Les slugs de modèle correspondent bien aux SKUs de modèle.\")\n",
        "    else:\n",
        "        print(\"❌ ERREUR : Un SKU de modèle est associé à plusieurs slugs de modèle différents.\")\n",
        "        print(df_variants.groupby('sku_model')['model_slug'].nunique())\n",
        "else:\n",
        "    print(\"⚠️ ATTENTION : La colonne 'model_slug' est manquante dans le DataFrame des variants. Recommandation : la conserver pour vérification.\")"
      ],
      "metadata": {
        "colab": {
          "base_uri": "https://localhost:8080/"
        },
        "id": "RzzOOjZMudxa",
        "outputId": "9791eef7-310e-4c39-d091-685af5d8bb7c"
      },
      "execution_count": null,
      "outputs": [
        {
          "output_type": "stream",
          "name": "stdout",
          "text": [
            "✅ OK : Tous les SKU variants sont uniques.\n",
            "--------------------------------------------------\n",
            "✅ OK : Aucune valeur manquante dans les colonnes clés des variants.\n",
            "--------------------------------------------------\n",
            "✅ OK : Tous les prix sont positifs.\n",
            "--------------------------------------------------\n",
            "✅ OK : La liaison entre les variants et les modèles est correcte.\n",
            "--------------------------------------------------\n",
            "Distribution des tailles par genre :\n",
            "         count       mean       std   min    25%   50%   75%   max\n",
            "gender                                                            \n",
            "child   1890.0  31.497354  2.292355  28.0  29.25  31.0  33.0  35.0\n",
            "men     9202.0  43.499239  2.872626  39.0  41.00  43.0  46.0  48.0\n",
            "women   2169.0  38.265560  1.692047  36.0  37.00  38.0  40.0  41.0\n",
            "--------------------------------------------------\n",
            "✅ OK : Les slugs de modèle correspondent bien aux SKUs de modèle.\n"
          ]
        }
      ]
    },
    {
      "cell_type": "code",
      "source": [
        "# --- Étape de vérification et de nettoyage finale ---\n",
        "\n",
        "# Gérer les couleurs et familles de couleurs vides\n",
        "# Si 'color' est vide, on le met à 'unique' et 'color_family' est laissé vide.\n",
        "# Note : la fonction `get_color_info` met déjà 'color' et 'color_family' à 'unique' par défaut.\n",
        "# Si vous avez des valeurs nulles, cette ligne les gère en plus.\n",
        "df_variants['color'] = df_variants['color'].fillna('unique')\n",
        "df_variants['color_family'] = df_variants['color_family'].replace('unique', np.nan) # Remplacer 'unique' par NaN pour le laisser vide\n",
        "\n",
        "# Vérification des valeurs manquantes dans les colonnes critiques\n",
        "print(\"--- Vérification des valeurs manquantes ---\")\n",
        "missing_prices = df_variants[df_variants['price'].isnull()]\n",
        "if not missing_prices.empty:\n",
        "    print(\"❌ ERREUR : Des prix sont manquants dans les variants.\")\n",
        "    print(missing_prices.head())\n",
        "\n",
        "missing_brands = df_variants[df_variants['Marque'].isnull()]\n",
        "if not missing_brands.empty:\n",
        "    print(\"❌ ERREUR : Des marques sont manquantes dans les variants.\")\n",
        "    print(missing_brands.head())\n",
        "\n",
        "missing_images = df_variants[df_variants['image_url'].isnull()]\n",
        "if not missing_images.empty:\n",
        "    print(\"❌ ERREUR : Des URLs d'image sont manquantes dans les variants.\")\n",
        "    print(missing_images.head())\n",
        "\n",
        "if missing_prices.empty and missing_brands.empty and missing_images.empty:\n",
        "    print(\"✅ OK : Aucune valeur manquante détectée dans les colonnes clés (prix, marque, image).\")\n"
      ],
      "metadata": {
        "colab": {
          "base_uri": "https://localhost:8080/"
        },
        "id": "UsDjY5gJvb8J",
        "outputId": "7fed5a78-c977-4994-93c0-cf73247262b1"
      },
      "execution_count": null,
      "outputs": [
        {
          "output_type": "stream",
          "name": "stdout",
          "text": [
            "--- Vérification des valeurs manquantes ---\n",
            "✅ OK : Aucune valeur manquante détectée dans les colonnes clés (prix, marque, image).\n"
          ]
        }
      ]
    },
    {
      "cell_type": "code",
      "source": [
        "# --- Étape de vérification et de nettoyage finale des variants ---\n",
        "\n",
        "# Gérer les couleurs et familles de couleurs vides\n",
        "df_variants['color'] = df_variants['color'].fillna('unique')\n",
        "df_variants['color_family'] = df_variants['color_family'].replace('unique', np.nan)\n",
        "\n",
        "# 1. Vérification de l'unicité des SKU variants\n",
        "if df_variants['sku_variant'].is_unique:\n",
        "    print(\"✅ OK : Tous les SKU variants sont uniques.\")\n",
        "else:\n",
        "    print(\"❌ ERREUR : Des SKU variants ne sont pas uniques.\")\n",
        "    duplicates = df_variants[df_variants.duplicated(subset=['sku_variant'], keep=False)]\n",
        "    print(\"\\nExemple de doublons de SKU variant :\\n\", duplicates[['sku_variant', 'product_slug', 'eu_size']].head())\n",
        "\n",
        "# 2. Vérification de la cohérence des SKU de modèle et des slugs entre produits et variants\n",
        "df_products_to_check = df_variants.drop_duplicates(subset=['sku_model']).copy()\n",
        "df_products_to_check['model_name'] = df_products_to_check['model_name_raw']\n",
        "\n",
        "# Vérifier la liaison SKU modèle / Slug modèle\n",
        "sku_model_consistency = df_variants.groupby('sku_model')['model_slug'].nunique()\n",
        "if (sku_model_consistency == 1).all():\n",
        "    print(\"✅ OK : Les SKU de modèle et les slugs de modèle sont cohérents.\")\n",
        "else:\n",
        "    print(\"❌ ERREUR : Un SKU de modèle est lié à plusieurs slugs de modèle.\")\n",
        "    print(sku_model_consistency[sku_model_consistency > 1])\n",
        "\n",
        "# Vérifier la liaison SKU modèle / SKU variant\n",
        "sku_variant_consistency = df_variants.groupby('sku_model')['sku_variant'].nunique()\n",
        "if (sku_variant_consistency > 0).all():\n",
        "    print(\"✅ OK : Chaque modèle a au moins un SKU de variant lié.\")\n",
        "else:\n",
        "    print(\"❌ ERREUR : Certains modèles n'ont pas de SKU de variant lié.\")\n",
        "    print(sku_variant_consistency[sku_variant_consistency == 0])\n",
        "\n",
        "print(\"-\" * 50)\n"
      ],
      "metadata": {
        "colab": {
          "base_uri": "https://localhost:8080/"
        },
        "id": "CTjQkSKlw4_p",
        "outputId": "db2286a2-9db3-4ef1-aca6-af9965b351aa"
      },
      "execution_count": null,
      "outputs": [
        {
          "output_type": "stream",
          "name": "stdout",
          "text": [
            "✅ OK : Tous les SKU variants sont uniques.\n",
            "✅ OK : Les SKU de modèle et les slugs de modèle sont cohérents.\n",
            "✅ OK : Chaque modèle a au moins un SKU de variant lié.\n",
            "--------------------------------------------------\n"
          ]
        }
      ]
    },
    {
      "cell_type": "code",
      "source": [
        "# 3. Vérification de la validité des URL des images\n",
        "invalid_urls = df_variants[~df_variants['image_url'].str.startswith('https://contents.mediadecathlon.com/', na=True)]\n",
        "if invalid_urls.empty:\n",
        "    print(\"✅ OK : Toutes les URLs d'image semblent valides (commencent par le préfixe de Decathlon).\")\n",
        "else:\n",
        "    print(\"❌ ERREUR : Des URLs d'image non valides ont été trouvées.\")\n",
        "    print(\"\\nExemple d'URLs non valides :\\n\", invalid_urls[['image_url']].head())\n",
        "\n",
        "print(\"-\" * 50)\n"
      ],
      "metadata": {
        "colab": {
          "base_uri": "https://localhost:8080/"
        },
        "id": "gu8ifohvxcmG",
        "outputId": "b31309af-e867-4be6-fa36-b1cb622caa02"
      },
      "execution_count": null,
      "outputs": [
        {
          "output_type": "stream",
          "name": "stdout",
          "text": [
            "✅ OK : Toutes les URLs d'image semblent valides (commencent par le préfixe de Decathlon).\n",
            "--------------------------------------------------\n"
          ]
        }
      ]
    },
    {
      "cell_type": "code",
      "source": [
        "# 1. Création du CSV 'brands'\n",
        "df_brands = df_variants.drop_duplicates(subset=['Marque']).copy()\n",
        "df_brands = df_brands.rename(columns={'Marque': 'brand'})\n",
        "df_brands = df_brands[['brand']]\n",
        "df_brands.to_csv('brands.csv', index=False)\n",
        "print(\"brands.csv créé avec succès.\")"
      ],
      "metadata": {
        "colab": {
          "base_uri": "https://localhost:8080/"
        },
        "id": "6QKUpIRoweIM",
        "outputId": "a6770704-acfe-4324-e045-c86ca5d7f012"
      },
      "execution_count": null,
      "outputs": [
        {
          "output_type": "stream",
          "name": "stdout",
          "text": [
            "brands.csv créé avec succès.\n"
          ]
        }
      ]
    },
    {
      "cell_type": "code",
      "source": [
        "# 2. Création du CSV 'products'\n",
        "# On utilise drop_duplicates pour ne garder qu'une ligne par modèle (sku_model)\n",
        "df_products = df_variants.drop_duplicates(subset=['sku_model']).copy()\n",
        "\n",
        "df_products = df_products.rename(columns={\n",
        "    'model_name_clean': 'name',\n",
        "    'Marque': 'brand',\n",
        "    'Description': 'description'\n",
        "})\n",
        "\n",
        "# On sélectionne les colonnes finales et on les réorganise\n",
        "df_products = df_products[['model_slug', 'name', 'brand', 'description', 'sku_model']]\n",
        "\n",
        "# On exporte au format CSV\n",
        "df_products.to_csv('products.csv', index=False)\n",
        "print(\"✅ OK: products.csv créé avec succès.\")"
      ],
      "metadata": {
        "colab": {
          "base_uri": "https://localhost:8080/"
        },
        "id": "38sByrZdwlI4",
        "outputId": "045b2e26-fabd-402f-975b-0ed471db996f"
      },
      "execution_count": null,
      "outputs": [
        {
          "output_type": "stream",
          "name": "stdout",
          "text": [
            "✅ OK: products.csv créé avec succès.\n"
          ]
        }
      ]
    },
    {
      "cell_type": "code",
      "source": [
        "# 3. Création du CSV 'variants'\n",
        "df_variants_final = df_variants[['product_slug', 'eu_size', 'gender', 'color', 'color_family', 'price', 'stock_quantity', 'sku_variant', 'sku_model', 'image_url']]\n",
        "df_variants_final.to_csv('variants.csv', index=False)\n",
        "print(\"✅ OK: variants.csv créé avec succès.\")"
      ],
      "metadata": {
        "colab": {
          "base_uri": "https://localhost:8080/"
        },
        "id": "JnEFjOnvxHGA",
        "outputId": "04a1264c-cd14-49b6-a8aa-ab5e975f4bff"
      },
      "execution_count": null,
      "outputs": [
        {
          "output_type": "stream",
          "name": "stdout",
          "text": [
            "✅ OK: variants.csv créé avec succès.\n"
          ]
        }
      ]
    },
    {
      "cell_type": "code",
      "source": [
        "# 4. Création du CSV 'images'\n",
        "df_images = df_variants[['sku_variant', 'image_url']].copy()\n",
        "df_images.to_csv('images.csv', index=False)\n",
        "print(\"images.csv créé avec succès.\")"
      ],
      "metadata": {
        "colab": {
          "base_uri": "https://localhost:8080/"
        },
        "id": "XkpuPH9hxJX4",
        "outputId": "7e3f2f30-a508-42e3-de81-48db22de3307"
      },
      "execution_count": null,
      "outputs": [
        {
          "output_type": "stream",
          "name": "stdout",
          "text": [
            "images.csv créé avec succès.\n"
          ]
        }
      ]
    },
    {
      "cell_type": "code",
      "source": [
        "# Assurez-vous d'avoir les DataFrames finaux `df_variants` créés\n",
        "df_variants_final = df_variants[['product_slug', 'eu_size', 'gender', 'color', 'color_family', 'price', 'stock_quantity', 'sku_variant', 'sku_model', 'image_url']]\n",
        "df_images = df_variants[['sku_variant', 'image_url']].copy()\n",
        "\n",
        "# Récupérer les listes de SKUs de chaque DataFrame\n",
        "skus_in_variants_df = set(df_variants_final['sku_variant'].unique())\n",
        "skus_in_images_df = set(df_images['sku_variant'].unique())\n",
        "\n",
        "# Vérifier si les ensembles de SKUs sont identiques\n",
        "if skus_in_variants_df == skus_in_images_df:\n",
        "    print(\"✅ OK: Les SKUs variants dans le CSV `images` sont 100% identiques à ceux du CSV `variants`.\")\n",
        "else:\n",
        "    # Trouver les SKUs qui ne sont pas dans les deux ensembles\n",
        "    skus_missing_in_images = skus_in_variants_df - skus_in_images_df\n",
        "    skus_missing_in_variants = skus_in_images_df - skus_in_variants_df\n",
        "\n",
        "    if skus_missing_in_images:\n",
        "        print(f\"❌ ERREUR: {len(skus_missing_in_images)} SKUs sont dans `variants` mais absents de `images`.\")\n",
        "        print(f\"Exemples de SKUs manquants : {list(skus_missing_in_images)[:5]}\")\n"
      ],
      "metadata": {
        "colab": {
          "base_uri": "https://localhost:8080/"
        },
        "id": "YRJLjPGg8dMj",
        "outputId": "6feb711e-728f-48ab-a1c8-674aed268748"
      },
      "execution_count": null,
      "outputs": [
        {
          "output_type": "stream",
          "name": "stdout",
          "text": [
            "✅ OK: Les SKUs variants dans le CSV `images` sont 100% identiques à ceux du CSV `variants`.\n"
          ]
        }
      ]
    },
    {
      "cell_type": "code",
      "source": [
        "# Afficher le nombre total d'entrées dans chaque DataFrame final\n",
        "print(\"\\n--- Récapitulatif du nombre de lignes dans les fichiers CSV ---\")\n",
        "print(f\"Nombre de produits uniques (products.csv) : {df_products['sku_model'].nunique()}\")\n",
        "print(f\"Nombre de variants (variants.csv) : {df_variants['sku_variant'].nunique()}\")\n",
        "print(f\"Nombre d'images (images.csv) : {df_images['image_url'].nunique()}\")\n",
        "\n",
        "#  Nombre\n",
        "# print(f\"Nombre total de lignes dans df_products : {len(df_products)}\")\n",
        "# print(f\"Nombre total de lignes dans df_variants : {len(df_variants)}\")\n",
        "# print(f\"Nombre total de lignes dans df_images : {len(df_images)}\")"
      ],
      "metadata": {
        "colab": {
          "base_uri": "https://localhost:8080/"
        },
        "id": "Qus3mGJ76wwv",
        "outputId": "5f66dc97-c6b6-47f1-c0b1-1130f9d1bdfe"
      },
      "execution_count": null,
      "outputs": [
        {
          "output_type": "stream",
          "name": "stdout",
          "text": [
            "\n",
            "--- Récapitulatif du nombre de lignes dans les fichiers CSV ---\n",
            "Nombre de produits uniques (products.csv) : 1400\n",
            "Nombre de variants (variants.csv) : 13261\n",
            "Nombre d'images (images.csv) : 1578\n"
          ]
        }
      ]
    },
    {
      "cell_type": "code",
      "source": [
        "# 1. Obtenez le nombre de variantes de base uniques\n",
        "# On groupe par le sku_model et la couleur pour obtenir un identifiant unique par combinaison\n",
        "nb_base_variants = df_variants.groupby(['sku_model', 'color']).ngroups\n",
        "\n",
        "# 2. Obtenez le nombre d'images uniques\n",
        "nb_images = df_variants['image_url'].nunique()\n",
        "\n",
        "print(f\"Nombre de variantes de base uniques (par modèle et couleur) : {nb_base_variants}\")\n",
        "print(f\"Nombre d'images uniques : {nb_images}\")\n",
        "\n"
      ],
      "metadata": {
        "colab": {
          "base_uri": "https://localhost:8080/"
        },
        "id": "1USPl6P0MYyQ",
        "outputId": "00285b9d-aa29-43c7-f29f-f56e66c10bb8"
      },
      "execution_count": null,
      "outputs": [
        {
          "output_type": "stream",
          "name": "stdout",
          "text": [
            "Nombre de variantes de base uniques (par modèle et couleur) : 1462\n",
            "Nombre d'images uniques : 1578\n"
          ]
        }
      ]
    },
    {
      "cell_type": "code",
      "source": [
        "# Créez une liste des SKU de modèles qui ont plusieurs couleurs\n",
        "sku_multi_colors = df_concat.groupby('sku_model')['color'].nunique()\n",
        "sku_multi_colors = sku_multi_colors[sku_multi_colors > 1].index.tolist()\n",
        "\n",
        "# Filtrez le DataFrame pour ne garder que ces modèles\n",
        "df_grouped_models = df_concat[df_concat['sku_model'].isin(sku_multi_colors)]\n",
        "\n",
        "# Affichez les 10 premiers modèles regroupés avec leurs couleurs et images\n",
        "print(\"Voici les 10 premiers modèles qui ont été regroupés :\")\n",
        "for sku, group in df_grouped_models.head(100).groupby('sku_model'):\n",
        "    print(f\"\\n--- Modèle : {group['model_name_clean'].iloc[0]} (SKU: {sku}) ---\")\n",
        "\n",
        "    # Affichage des variantes regroupées pour ce modèle\n",
        "    variants = group[['color', 'image_url', 'Description']].drop_duplicates().to_string(index=False)\n",
        "    print(variants)"
      ],
      "metadata": {
        "id": "vR2qWGMyMEsa",
        "colab": {
          "base_uri": "https://localhost:8080/"
        },
        "outputId": "0ddd16ba-c527-41c8-ea37-730ca12627b3"
      },
      "execution_count": null,
      "outputs": [
        {
          "output_type": "stream",
          "name": "stdout",
          "text": [
            "Voici les 10 premiers modèles qui ont été regroupés :\n",
            "\n",
            "--- Modèle : vl court 3.0 (SKU: ADI-1350a418d1) ---\n",
            " color                                                                                                                                                   image_url                        Description\n",
            "unique   https://contents.mediadecathlon.com/m16561911/k$83ebd48bc3ef50b89f508ae1b7953e89/sq/56d1de55-6b1c-4cb2-b1a2-6a6f93035666_c14c4c14.jpg?format=auto&f=800x0             Chaussure VL Court 3.0\n",
            "unique https://contents.mediadecathlon.com/m18433678/k$4029b99a6b28afd65184da7464fc673e/sq/6f78f443-febc-4e55-a94c-038797485338_c195c4c158.jpg?format=auto&f=800x0             Chaussure VL Court 3.0\n",
            "marron                                          https://contents.mediadecathlon.com/p2941240/k$6d363b2af7e2e5d776b06f3c45544dc7/sq/8968397.jpg?format=auto&f=800x0 Basket homme, vl court 3.0, marron\n",
            "unique   https://contents.mediadecathlon.com/m22155919/k$b97847b4d55ec5267ceda3db44ac0318/sq/8dd07600-8a0e-4e0c-b7df-a6f401ef99fd_c1c1c250.jpg?format=auto&f=800x0             Chaussure VL Court 3.0\n",
            "\n",
            "--- Modèle : vl court 3.0 adidas (SKU: ADI-1997aef272) ---\n",
            " color                                                                                                          image_url                                    Description\n",
            "  noir https://contents.mediadecathlon.com/p2828588/k$d5bad72ee1cd6ce4c53c60e08bb1e703/sq/8938698.jpg?format=auto&f=800x0 CHAUSSURE FEMME VL COURT 3.0 ADIDAS BLANC NOIR\n",
            "corail https://contents.mediadecathlon.com/p2931375/k$98256e54764ec91c27c077949cfd5d96/sq/8968003.jpg?format=auto&f=800x0     Baskets Femme, VL COURT 3.0 ADIDAS, corail\n",
            "\n",
            "--- Modèle : breaknet sleek (SKU: ADI-569ca0e7f0) ---\n",
            "color                                                                                                          image_url                           Description\n",
            "grise https://contents.mediadecathlon.com/p2723726/k$ac074120807819cae06d1b933176c483/sq/8912132.jpg?format=auto&f=800x0 Chaussure femme, breaknet sleek grise\n",
            "\n",
            "--- Modèle : vl court bold (SKU: ADI-8ea302bb65) ---\n",
            " color                                                                                                                                                 image_url                                            Description\n",
            "unique  https://contents.mediadecathlon.com/m23919271/k$efcd5925cada5917da7527e91865696d/sq/8be223d6-0e4d-499c-87f8-0492d503e3c5_c9c20c4.jpg?format=auto&f=800x0              Chaussure VL Court Bold Lifestyle Enfants\n",
            " blanc                                        https://contents.mediadecathlon.com/p2828647/k$0c1bb46561efcdeacd91a6f8ee17d05b/sq/8938907.jpg?format=auto&f=800x0 Baskets femme, vl court bold blanc cassé et bleu gomme\n",
            "unique https://contents.mediadecathlon.com/m19045089/k$0f9be7a18da6ac00f0da3dbb88239bd9/sq/aeff749a-8e43-4ef7-ac7e-62bccb8d05ff_c22c4c23.jpg?format=auto&f=800x0                                Chaussure VL Court Bold\n",
            "\n",
            "--- Modèle : rapid court low adidas (SKU: ADI-ae4018a523) ---\n",
            "color                                                                                                          image_url                                  Description\n",
            " vert https://contents.mediadecathlon.com/p2828846/k$bf6f63cc41395233e4e5eec8b3ea9cc9/sq/8939230.jpg?format=auto&f=800x0    BASKETS HOMME RAPID COURT LOW ADIDAS VERT\n",
            "beige https://contents.mediadecathlon.com/p2829139/k$606598bac99d71dad577a3651c17ddbe/sq/8939272.jpg?format=auto&f=800x0 CHAUSSURE HOMME RAPID COURT LOW ADIDAS BEIGE\n",
            "\n",
            "--- Modèle : grand court base 00s (SKU: ADI-afded638ae) ---\n",
            "   color                                                                                                                                                 image_url                                    Description\n",
            "    noir                                        https://contents.mediadecathlon.com/p2828614/k$e08bc8802ab97ff2405871750bc52de4/sq/8938910.jpg?format=auto&f=800x0       Baskets homme, Grand court base 00s noir\n",
            "  unique  https://contents.mediadecathlon.com/m18857008/k$a30ad4069ef31d0c640dbb701d2351fa/sq/297ea668-3f5b-4b11-8d61-e8e41837e5f9_c1c4c27.jpg?format=auto&f=800x0                 Chaussure Grand Court Base 00s\n",
            "violette                                        https://contents.mediadecathlon.com/p2723712/k$5bba710e8f1fe49244fe8a073ebf8774/sq/8912133.jpg?format=auto&f=800x0 Chaussure femme, grand court base 00s violette\n",
            "  unique https://contents.mediadecathlon.com/m23919716/k$2b36d716515b81f4eba79ac38c15c61e/sq/7923abc3-2670-44ad-b8a5-f22b18f9316c_c1c172c4.jpg?format=auto&f=800x0                 Chaussure Grand Court Base 00s\n",
            "\n",
            "--- Modèle : vs pace (SKU: ADI-d344f3581c) ---\n",
            "color                                                                                                          image_url                            Description\n",
            "grise https://contents.mediadecathlon.com/p2475040/k$c71003d672e597830fa7758ac65018ff/sq/8811048.jpg?format=auto&f=800x0 Baskets de marche homme, Vs pace grise\n",
            " noir https://contents.mediadecathlon.com/p2645297/k$02a99fdae0d58c13b61709e9b1a3d003/sq/8901819.jpg?format=auto&f=800x0            Baskets homme, vs pace noir\n",
            "\n",
            "--- Modèle : ultimashow 2.0 adidas (SKU: ADI-def7dc5c33) ---\n",
            "color                                                                                                          image_url                                 Description\n",
            " noir https://contents.mediadecathlon.com/p2828860/k$f26fb24836f56d694b958ae99cf16d68/sq/8939568.jpg?format=auto&f=800x0  CHAUSSURE HOMME ULTIMASHOW 2.0 ADIDAS NOIR\n",
            "blanc https://contents.mediadecathlon.com/p2828899/k$d38badeba1b04708e8d653bf895f4e6d/sq/8941376.jpg?format=auto&f=800x0 CHAUSSURE FEMME ULTIMASHOW 2.0 ADIDAS BLANC\n",
            "\n",
            "--- Modèle : rapid court low (SKU: ADI-e216e565af) ---\n",
            " color                                                                                                                                                image_url               Description\n",
            "unique https://contents.mediadecathlon.com/m17605952/k$1264c8b499b39b1a56133c2b5730682d/sq/ec20471b-ee4d-4745-8c7c-81b8072cb5b2_c1c71c4.jpg?format=auto&f=800x0 Chaussure Rapid Court Low\n",
            "\n",
            "--- Modèle : urban court adidas (SKU: ADI-ed212483c4) ---\n",
            "color                                                                                                          image_url                              Description\n",
            " noir https://contents.mediadecathlon.com/p2828930/k$8b9ee20a681d72fa24c78cf46c01b934/sq/8939554.jpg?format=auto&f=800x0  CHAUSSURE HOMME URBAN COURT ADIDAS NOIR\n",
            "blanc https://contents.mediadecathlon.com/p2828979/k$0d665fc813bb5833191af1e088b755c9/sq/8939299.jpg?format=auto&f=800x0 CHAUSSURE FEMME URBAN COURT ADIDAS BLANC\n",
            "\n",
            "--- Modèle : asics gel-1130 (gs) (SKU: ASI-1a7f832f8f) ---\n",
            "color                                                                                                                                           image_url                    Description\n",
            "white https://contents.mediadecathlon.com/m23567645/k$e25f22451e02d3709b31bafbaf19cbd6/sq/a41d1cab-db38-4a3a-90ee-b6aba131c7c3_c4.jpg?format=auto&f=800x0 ASICS Gel-1130 White Blue (GS)\n",
            "\n",
            "--- Modèle : asics lyte classic (SKU: ASI-eb4958e7bc) ---\n",
            "      color                                                                                                                                                    image_url                                           Description\n",
            "       gris                                           https://contents.mediadecathlon.com/p2794385/k$6584fdb59c27b750a0e5d2774bf13b2b/sq/8942208.jpg?format=auto&f=800x0               Baskets homme - asics lyte classic gris\n",
            "multicolore https://contents.mediadecathlon.com/m19698514/k$1ad2cd40960cb7e0bf11b36529407de7/sq/0732f16b-24cf-413f-a183-1a854226a80b_c255c67c236.jpg?format=auto&f=800x0 Chaussures pour hommes Asics Lyte classic Multicolore\n",
            "\n",
            "--- Modèle : camper drift (SKU: CAM-84539faa29) ---\n",
            "color                                                                                                                                            image_url                                     Description\n",
            "beige https://contents.mediadecathlon.com/m21714184/k$09a1dd2725a5a3fd2f013e1d1420dd23/sq/c5892e27-e092-42b6-8f1c-662dcf840991_c30.jpg?format=auto&f=800x0 Baskets Camper Modèle Drift Trail Couleur Beige\n",
            "\n",
            "--- Modèle : converse chuck taylor all star (SKU: CON-ffc9a660ae) ---\n",
            " color                                                                                                                                            image_url                                             Description\n",
            "marron https://contents.mediadecathlon.com/m18327773/k$31399cdeece259f5e112c441b5abd05a/sq/a94858c3-1729-45d2-b63f-7f12e9eb7779_c27.jpg?format=auto&f=800x0 Chaussures Hommes Converse Chuck Taylor All Star Marron\n",
            "  noir  https://contents.mediadecathlon.com/m18273402/k$fe900f3160f0093a5548fea058c2da90/sq/2246571e-4a57-49be-8e10-2d2bbeee269b_c1.jpg?format=auto&f=800x0   Chaussures Hommes Converse Chuck Taylor All Star Noir\n",
            "\n",
            "--- Modèle : rr2k (SKU: DEC-101af627df) ---\n",
            " color                                                                                                          image_url                                   Description\n",
            " blanc https://contents.mediadecathlon.com/p2760421/k$0ac7154530c4bb3c9cf5d4de586f3cb1/sq/8913380.jpg?format=auto&f=800x0       Baskets Homme, RR2K blanc, gris et bleu\n",
            "marron https://contents.mediadecathlon.com/p2956441/k$8550a0d9b338006a13f8b4d28f0bcdae/sq/8938283.jpg?format=auto&f=800x0             Baskets en daim homme RR2K marron\n",
            "  bleu https://contents.mediadecathlon.com/p2760393/k$bd7d0560f7c7149820b7ee1a2bb60eae/sq/8913410.jpg?format=auto&f=800x0 Baskets Femme, RR2K gris, bleu clair et beige\n",
            " beige https://contents.mediadecathlon.com/p2956430/k$b1f24de27197bd2fb953fb8260cc9e26/sq/8938287.jpg?format=auto&f=800x0              Baskets en daim femme RR2K beige\n",
            "\n",
            "--- Modèle : player 80 (SKU: DEC-2ab5933401) ---\n",
            "color                                                                                                          image_url                           Description\n",
            " noir https://contents.mediadecathlon.com/p2919653/k$e4ed1be77c5876ab180e4477e422c42f/sq/8968050.jpg?format=auto&f=800x0        Baskets en cuir PLAYER 80 noir\n",
            "blanc https://contents.mediadecathlon.com/p2919664/k$2a35346df40f0d04c35e53cf896a6b2c/sq/8960403.jpg?format=auto&f=800x0 Baskets femme en cuir PLAYER 80 blanc\n",
            "\n",
            "--- Modèle : klnj be geared up (SKU: DEC-359c96f4cb) ---\n",
            "  color                                                                                                          image_url                                 Description\n",
            "   noir https://contents.mediadecathlon.com/p2368203/k$9c3f6308b884b0c360ab0c79efcb974d/sq/8803397.jpg?format=auto&f=800x0      BASKETS KLNJ BE GEARED UP HOMME - NOIR\n",
            "   noir https://contents.mediadecathlon.com/p2698146/k$c5ddc77052910a65c0259a07de3b971b/sq/8883089.jpg?format=auto&f=800x0 Baskets femme, klnj be geared up noir beige\n",
            "blanche https://contents.mediadecathlon.com/p2368185/k$0c776a596acb48d8e4068b5c60e524a3/sq/8803413.jpg?format=auto&f=800x0    Baskets femme, KLNJ BE GEARED UP blanche\n",
            "\n",
            "--- Modèle : rr70 (SKU: DEC-5190af68f3) ---\n",
            "color                                                                                                          image_url                 Description\n",
            " noir https://contents.mediadecathlon.com/p2956450/k$76eb553974f67b7400c1c0d8e4b89db6/sq/8938933.jpg?format=auto&f=800x0  Baskets homme, RR70 - Noir\n",
            "blanc https://contents.mediadecathlon.com/p2794850/k$1d04e02ba2218ec528890cafb72bf841/sq/8901172.jpg?format=auto&f=800x0 Baskets femme, RR70 - Blanc\n",
            "\n",
            "--- Modèle : daim cj80 (SKU: DEC-664ef282b4) ---\n",
            " color                                                                                                          image_url                               Description\n",
            "  noir https://contents.mediadecathlon.com/p2956379/k$9981a8457529a40db88601c945bac3ea/sq/8940313.jpg?format=auto&f=800x0   Baskets en cuir et daim homme CJ80 noir\n",
            "marron https://contents.mediadecathlon.com/p2956391/k$a12f201ef38af4810660267448dbd606/sq/8938282.jpg?format=auto&f=800x0 Baskets en cuir et daim femme CJ80 marron\n",
            "\n",
            "--- Modèle : mtc x, lifetech (SKU: DEC-6736947689) ---\n",
            " color                                                                                                          image_url                             Description\n",
            "  noir https://contents.mediadecathlon.com/p2919540/k$ce64dd8d52e1187bf97acd4ec3ada2c9/sq/8930250.jpg?format=auto&f=800x0   Baskets en cuir MTC X, Lifetech, Noir\n",
            "marron https://contents.mediadecathlon.com/p2919539/k$dc8a37aeeeef59817624d2a29f09d23b/sq/8930252.jpg?format=auto&f=800x0 Baskets en cuir MTC X, Lifetech, Marron\n",
            "\n",
            "--- Modèle : rl70 (SKU: DEC-c2ec19a1e9) ---\n",
            "color                                                                                                          image_url                     Description\n",
            "blanc https://contents.mediadecathlon.com/p2794779/k$8acc3ab969205fed1173bc982cef6fa0/sq/8901129.jpg?format=auto&f=800x0     Baskets femme, RL70 - Blanc\n",
            " vert https://contents.mediadecathlon.com/p2956479/k$184b96ea8976ec53a0bd3eb865acf6aa/sq/8946774.jpg?format=auto&f=800x0 Baskets en daim femme RL70 vert\n",
            "\n",
            "--- Modèle : rr70, vintage édition (SKU: DEC-db81cf9481) ---\n",
            "color                                                                                                          image_url                                Description\n",
            "blanc https://contents.mediadecathlon.com/p2797031/k$c5957a508699fbc47a657eead09b4451/sq/8927682.jpg?format=auto&f=800x0 Baskets RR70, vintage édition, Blanc, Gris\n",
            "beige https://contents.mediadecathlon.com/p2797013/k$70ddd9288f6dcf664beb708b48f53c71/sq/8927719.jpg?format=auto&f=800x0       Baskets RR70, vintage édition, Beige\n",
            "\n",
            "--- Modèle : deportivas geox u avery a (SKU: GEO-3dda8fd1fe) ---\n",
            " color                                                                                                                                            image_url                                        Description\n",
            "marron https://contents.mediadecathlon.com/m23581488/k$6a9285bb0b9a25c7564bf57994eb09fc/sq/2377314b-4aa4-46cf-84a6-995ab67e4eef_c27.jpg?format=auto&f=800x0 Chaussures Deportivas Hombre Geox U AVERY A Marron\n",
            "marine  https://contents.mediadecathlon.com/m23585184/k$9ef828fa94a23543c67892b8c58668a2/sq/5ddc52f7-d99b-4b59-a29b-666a060e9a25_c5.jpg?format=auto&f=800x0 Chaussures Deportivas Hombre Geox U AVERY A Marine\n",
            "\n",
            "--- Modèle : 1 mid (SKU: JOR-384a4f80bd) ---\n",
            "color                                                                                                                                             image_url                  Description\n",
            "green https://contents.mediadecathlon.com/m21280750/k$b924db0ae700bc668f62f213fc697772/sq/57a8b4aa-de78-4eef-94a2-7e1201a52c5f_c251.jpg?format=auto&f=800x0 Chaussures  1 Mid Grey Green\n",
            "\n",
            "--- Modèle : 1 mid toe (SKU: JOR-760b50404c) ---\n",
            "color                                                                                                                                           image_url                        Description\n",
            "black https://contents.mediadecathlon.com/m21271174/k$a017f7c07784af593a133c5771e93291/sq/8c338f14-7162-46b1-a4f1-fd2ef6918c73_c4.jpg?format=auto&f=800x0 Chaussures  1 Mid Yellow Toe Black\n",
            " bred https://contents.mediadecathlon.com/m21295237/k$965afdc03b492d29de506cc4d333bc71/sq/5f0d1b19-f49f-44a7-9b68-fd09dfcda25c_c4.jpg?format=auto&f=800x0         Chaussures  1 Mid Bred Toe\n",
            "\n",
            "--- Modèle : kappa maserta (SKU: KAP-bb83f15e45) ---\n",
            " color                                                                                                          image_url                             Description\n",
            "marron https://contents.mediadecathlon.com/p2849954/k$7ba9a413314358dfc98e01a3d8455eb7/sq/8955211.jpg?format=auto&f=800x0 Basket KAPPA homme MASERTA Marron clair\n",
            " blanc https://contents.mediadecathlon.com/p2849963/k$96714df5b21ac6229c34be33b6064eba/sq/8955213.jpg?format=auto&f=800x0        Basket KAPPA femme MASERTA blanc\n",
            "\n",
            "--- Modèle : kappa mattea (SKU: KAP-f5ededd7e3) ---\n",
            "color                                                                                                          image_url                            Description\n",
            " noir https://contents.mediadecathlon.com/p2953250/k$cb765c1485ede320cdcc4ccd3490587f/sq/8964213.jpg?format=auto&f=800x0 Baskets KAPPA homme  MATTEA Blanc noir\n",
            " rose https://contents.mediadecathlon.com/p2953256/k$6da41a82fbd604c1f5c825338273929f/sq/8964528.jpg?format=auto&f=800x0      Baskets KAPPA femme  MATTEA  rose\n",
            "\n",
            "--- Modèle : le coq sportif astra 2 (SKU: LE -149503cb3b) ---\n",
            " color                                                                                                          image_url                                  Description\n",
            "marine https://contents.mediadecathlon.com/p2929144/k$683cfa0cdc6efaff3a766a5204cb7ca2/sq/8984636.jpg?format=auto&f=800x0 baskets homme, LE COQ SPORTIF ASTRA 2 marine\n",
            " blanc https://contents.mediadecathlon.com/p2929195/k$0503617b523a1c36beef0826864b6824/sq/8984637.jpg?format=auto&f=800x0  baskets homme, LE COQ SPORTIF ASTRA 2 blanc\n",
            "\n",
            "--- Modèle : le coq sportif platinium_2 (SKU: LE -e90f2c462e) ---\n",
            "color                                                                                                                                                 image_url                                            Description\n",
            " bleu       https://contents.mediadecathlon.com/m16023585/k$d69e93d745e5bdeb4486156c79be51e1/sq/6179b262-6118-4074-b0bc-a4701c0c1f69_c5.jpg?format=auto&f=800x0 Baskets Le Coq Sportif Modèle Platinium_2 Couleur Bleu\n",
            " noir https://contents.mediadecathlon.com/m16007305/k$3ea8470855caddd9f2a27e9156f0afcf/sq/02788726-4cfc-4147-bf75-b8cdb85fe86c_c1c307c1.jpg?format=auto&f=800x0 Baskets Le Coq Sportif Modèle Platinium_2 Couleur Noir\n",
            "\n",
            "--- Modèle : 327 (SKU: NEW-076e5a3a32) ---\n",
            " color                                                                                                                                            image_url            Description\n",
            "angora https://contents.mediadecathlon.com/m21224384/k$a9de8a22d771773d557128d68ecb8505/sq/a3788fea-8814-441e-82eb-e61e864ff661_c30.jpg?format=auto&f=800x0 Chaussures  327 Angora\n",
            "\n",
            "--- Modèle : imperméables nordique nw 580 (SKU: NEW-577e0ce3c1) ---\n",
            "color                                                                                                          image_url                                             Description\n",
            " kaki https://contents.mediadecathlon.com/p1867746/k$6f4fd29ebf3ce9ac0a4b1bdf700a8a29/sq/8539927.jpg?format=auto&f=800x0  Chaussures imperméables de marche nordique NW 580 Kaki\n",
            "bleue https://contents.mediadecathlon.com/p1867762/k$9eb81b522d5aee9532c969f3a36d5cb7/sq/8539910.jpg?format=auto&f=800x0 Chaussures imperméables de marche nordique NW 580 bleue\n",
            "\n",
            "--- Modèle : 2002r protection pack (SKU: NEW-6247189267) ---\n",
            "color                                                                                                                                             image_url                            Description\n",
            " grey https://contents.mediadecathlon.com/m21278378/k$4fb6bbdfe8dd13658103a1caa2a835a3/sq/32629794-254b-46b2-99b1-1d1fbdf35374_c251.jpg?format=auto&f=800x0 Chaussures  2002R Protection Pack Grey\n",
            " pink  https://contents.mediadecathlon.com/m21274878/k$ec77acecb7916d6f09011a99647e13aa/sq/c5b8b647-2cc4-4185-b438-9b480ab860af_c24.jpg?format=auto&f=800x0 Chaussures  2002R Protection Pack Pink\n",
            " grey   https://contents.mediadecathlon.com/m21273629/k$f5b3c7a0db49158e57931cfe81314bc0/sq/32629794-254b-46b2-99b1-1d1fbdf35374_c4.jpg?format=auto&f=800x0 Chaussures  2002R Protection Pack Grey\n",
            "\n",
            "--- Modèle : 860 v2 aime leon (SKU: NEW-7d3a8900f8) ---\n",
            "color                                                                                                                                           image_url                            Description\n",
            " blue https://contents.mediadecathlon.com/m21222223/k$03bfeb18945e86f06cc3f710c16ffe4a/sq/e3d192dd-fa41-4b63-9a5f-76c5a3fc2a3d_c5.jpg?format=auto&f=800x0 Chaussures  860 V2 Aime Leon Dore Blue\n",
            "\n",
            "--- Modèle : 9060 triple (SKU: NEW-a3b2ba5990) ---\n",
            "color                                                                                                                                               image_url                   Description\n",
            "white https://contents.mediadecathlon.com/m21269037/k$5304afc66ab22af49c4fe107547ee745/sq/69590c63-2158-4365-900b-2b80dc0a6d65_c4c4c4.jpg?format=auto&f=800x0 Chaussures  9060 Triple White\n",
            "black     https://contents.mediadecathlon.com/m21275889/k$08584f6bacddb11b6dc0690f36d9d27d/sq/f8cda5fc-6a8d-4157-9d1e-a58a88bfe1ed_c1.jpg?format=auto&f=800x0 Chaussures  9060 Triple Black\n",
            "\n",
            "--- Modèle : respirantes nordique nw 500 (SKU: NEW-ae26ba4207) ---\n",
            "color                                                                                                          image_url                                                       Description\n",
            " bleu https://contents.mediadecathlon.com/p2394227/k$e67e3338961da177bdf0c74714baa398/sq/8789845.jpg?format=auto&f=800x0 Chaussures respirantes de marche nordique homme NW 500 bleu foncé\n",
            " vert https://contents.mediadecathlon.com/p2394338/k$488304ebba4a9b1f93b77f6c0a117a73/sq/8789843.jpg?format=auto&f=800x0        Chaussures respirantes de marche nordique NW 500 vert kaki\n",
            "\n",
            "--- Modèle : 9060 (SKU: NEW-b2423be440) ---\n",
            "color                                                                                                                                           image_url                  Description\n",
            "white https://contents.mediadecathlon.com/m21222347/k$97970e2ae70e6c8000ca5056ac80809c/sq/cf26003d-1854-447b-b8b3-cfbe4e25e671_c4.jpg?format=auto&f=800x0  Chaussures  9060 Navy White\n",
            "green https://contents.mediadecathlon.com/m21268989/k$2ede0afb1a4f128e3f033b7fe53f2694/sq/1cfdcb88-dbfe-4ea6-9131-7cb092f088f0_c9.jpg?format=auto&f=800x0 Chaussures  9060 Green Cream\n",
            "white https://contents.mediadecathlon.com/m21274915/k$120691dd1411d7d708f2f793bf0165b9/sq/b2208f21-8d9c-40ef-8dfd-214b878c8138_c4.jpg?format=auto&f=800x0  Chaussures  9060 White Navy\n",
            "\n",
            "--- Modèle : dunk low game royal (SKU: NIK-e1d4c8ae91) ---\n",
            " color                                                                                                                                           image_url                          Description\n",
            "  navy https://contents.mediadecathlon.com/m21277860/k$cbd3f64c00e570817630a6729e9459a8/sq/f06900b0-7bfc-45b7-a3ce-d8c739488b90_c5.jpg?format=auto&f=800x0 Chaussures  Dunk Low Game Royal Navy\n",
            "unique https://contents.mediadecathlon.com/m21276049/k$233a8103c6b593d2b5f831e869c52c5f/sq/53cff744-f5d2-4485-bb9a-4677b79a6a31_c1.jpg?format=auto&f=800x0      Chaussures  Dunk Low Game Royal\n",
            "\n",
            "--- Modèle : r78 (SKU: PUM-3e1db54aa2) ---\n",
            "  color                                                                                                          image_url                                     Description\n",
            "   bleu https://contents.mediadecathlon.com/p2619654/k$34eb9f2f3a1668d8cc2d3f50da4b2a2e/sq/8881287.jpg?format=auto&f=800x0         Baskets de marche homme, R78 bleu rouge\n",
            "blanche https://contents.mediadecathlon.com/p2472825/k$e48a9430e96321b219b3f58fc084b311/sq/8784996.jpg?format=auto&f=800x0 Baskets de marche femme, R78 Blanche rose jaune\n",
            "\n",
            "--- Modèle : jazz triple (SKU: SAU-df818bf32b) ---\n",
            "color                                                                                                                                                 image_url                    Description\n",
            " noir https://contents.mediadecathlon.com/m17299102/k$5eb55d3934ffdd3c9d2ffe932f8f74ee/sq/77e8f6f6-744c-46af-aa10-598cd2d45ee3_c255c249.jpg?format=auto&f=800x0 baskets JAZZ TRIPLE FEMME NOIR\n",
            "\n",
            "--- Modèle : skechers glide-step pro (SKU: SKE-316df9ff43) ---\n",
            " color                                                                                                                                                  image_url                                         Description\n",
            "  gris      https://contents.mediadecathlon.com/m21709560/k$0d0b7c8c6cb10bf53304771bf5007dd0/sq/b6d54045-b06d-4104-8be5-1506b012804b_c251.jpg?format=auto&f=800x0 Baskets Skechers Modèle Glide-step Pro Couleur Gris\n",
            "unique https://contents.mediadecathlon.com/m20483204/k$ebface92ccfb04cc158e2de8d8c3998d/sq/cd633bed-9064-47e6-882d-3b07404579bb_c5c195c49.jpg?format=auto&f=800x0                     Baskets Skechers Glide-Step Pro\n",
            "\n",
            "--- Modèle : skechers uno (SKU: SKE-3a928eb0b7) ---\n",
            "color                                                                                                          image_url                          Description\n",
            " noir https://contents.mediadecathlon.com/p2794422/k$ab974e7c3290cb0d7e8436bb5535d50d/sq/8907972.jpg?format=auto&f=800x0       BASKET SKECHERS UNO NOIR HOMME\n",
            " vert https://contents.mediadecathlon.com/p2866079/k$c73db43592c22ae40dc803ab9d423e3a/sq/8958818.jpg?format=auto&f=800x0 BASKET SKECHERS UNO vert olive homme\n",
            "\n",
            "--- Modèle : tbs claudie cuir (SKU: TBS-157a528084) ---\n",
            "color                                                                                                          image_url                                   Description\n",
            "blanc https://contents.mediadecathlon.com/p2681002/k$04b713335dc5c2d678320811d54d472e/sq/8869845.jpg?format=auto&f=800x0 CHAUSSURE MARCHE TBS CLAUDIE CUIR FEMME BLANC\n",
            "noire https://contents.mediadecathlon.com/p2681026/k$eac9a319e41ef38cdb74c22a08dc5dfd/sq/8869848.jpg?format=auto&f=800x0 CHAUSSURE MARCHE TBS CLAUDIE CUIR FEMME NOIRE\n",
            "\n",
            "--- Modèle : femmetbs lescala (SKU: TBS-f41e085657) ---\n",
            " color                                                                                                          image_url                                       Description\n",
            " beige https://contents.mediadecathlon.com/p2872779/k$a6eb469fcb925cfb6b8e28063b461e0f/sq/8950700.jpg?format=auto&f=800x0  Basket de marche en toile femmeTBS Lescala beige\n",
            "marine https://contents.mediadecathlon.com/p2872783/k$91daa77f7f7ffb9ebddb44ecd6f20afa/sq/8950696.jpg?format=auto&f=800x0 Basket de marche en toile femmeTBS Lescala marine\n",
            "\n",
            "--- Modèle : vans old skool (SKU: VAN-00807ed74f) ---\n",
            " color                                                                                                                                              image_url                                Description\n",
            "  noir    https://contents.mediadecathlon.com/m20938712/k$79e3bf7334a3e75c430f3d2a5d4ec849/sq/a94f6070-2a7a-49ae-8952-9ad41e47f2cc_c1.jpg?format=auto&f=800x0 Baskets Vans Modèle Old Skool Couleur Noir\n",
            "unique https://contents.mediadecathlon.com/m7076670/k$2b2c42f12fb8536298a8bf8674b8420c/sq/694f4687-9f0e-4b47-840e-e5d59b3ff3b5_c1c1c1.jpg?format=auto&f=800x0                     Baskets Vans Old Skool\n",
            "\n",
            "--- Modèle : vans knu skool (SKU: VAN-389bade5d8) ---\n",
            " color                                                                                                                                            image_url                                Description\n",
            "  noir  https://contents.mediadecathlon.com/m21708040/k$6ce06e675ef3a86b4e08b444a1869f1c/sq/18f5d8d8-f04b-44fa-bb8a-3001a87f5970_c1.jpg?format=auto&f=800x0 Baskets Vans Modèle Knu Skool Couleur Noir\n",
            "unique https://contents.mediadecathlon.com/m22142443/k$2f03295eb360d3da25ab378a8c9866eb/sq/4cac6cb7-c332-4511-bb2f-5b2d63d8d6ca_c27.jpg?format=auto&f=800x0                      Basket Vans KNU-SKOOL\n"
          ]
        }
      ]
    },
    {
      "cell_type": "code",
      "source": [],
      "metadata": {
        "id": "WuqcT08izA45"
      },
      "execution_count": null,
      "outputs": []
    }
  ]
}